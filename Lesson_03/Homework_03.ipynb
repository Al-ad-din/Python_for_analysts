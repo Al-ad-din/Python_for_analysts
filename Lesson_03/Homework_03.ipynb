{
  "metadata": {
    "language_info": {
      "codemirror_mode": {
        "name": "python",
        "version": 3
      },
      "file_extension": ".py",
      "mimetype": "text/x-python",
      "name": "python",
      "nbconvert_exporter": "python",
      "pygments_lexer": "ipython3",
      "version": "3.8"
    },
    "kernelspec": {
      "name": "python",
      "display_name": "Python (Pyodide)",
      "language": "python"
    }
  },
  "nbformat_minor": 4,
  "nbformat": 4,
  "cells": [
    {
      "cell_type": "markdown",
      "source": "# Практическое задание к семинару № 3\n### Задание № 1.<br>\nСкачать данные по ссылке https://gbcdn.mrgcdn.ru/uploads/asset/5329635/attachment/ec62e059045694b6065f1490d4f57730.csv<br>\nСчитать данные с помощью pandas<br>\nВывести на экран первые 5 строк<br>\n1.1 Создать новый признак price_per_sq_lot, который будет содержать среднюю стоимость за один кв. метр общей площади",
      "metadata": {}
    },
    {
      "cell_type": "code",
      "source": "import pandas as pd",
      "metadata": {
        "trusted": true
      },
      "execution_count": 3,
      "outputs": []
    },
    {
      "cell_type": "code",
      "source": "df = pd.read_csv('./kc_house_data.csv')\ndf.head()",
      "metadata": {
        "trusted": true
      },
      "execution_count": 4,
      "outputs": [
        {
          "execution_count": 4,
          "output_type": "execute_result",
          "data": {
            "text/plain": "           id             date     price  bedrooms  bathrooms  sqft_living  \\\n0  7129300520  20141013T000000  221900.0         3       1.00         1180   \n1  6414100192  20141209T000000  538000.0         3       2.25         2570   \n2  5631500400  20150225T000000  180000.0         2       1.00          770   \n3  2487200875  20141209T000000  604000.0         4       3.00         1960   \n4  1954400510  20150218T000000  510000.0         3       2.00         1680   \n\n   sqft_lot  floors  waterfront  view  ...  grade  sqft_above  sqft_basement  \\\n0      5650     1.0           0     0  ...      7        1180              0   \n1      7242     2.0           0     0  ...      7        2170            400   \n2     10000     1.0           0     0  ...      6         770              0   \n3      5000     1.0           0     0  ...      7        1050            910   \n4      8080     1.0           0     0  ...      8        1680              0   \n\n   yr_built  yr_renovated  zipcode      lat     long  sqft_living15  \\\n0      1955             0    98178  47.5112 -122.257           1340   \n1      1951          1991    98125  47.7210 -122.319           1690   \n2      1933             0    98028  47.7379 -122.233           2720   \n3      1965             0    98136  47.5208 -122.393           1360   \n4      1987             0    98074  47.6168 -122.045           1800   \n\n   sqft_lot15  \n0        5650  \n1        7639  \n2        8062  \n3        5000  \n4        7503  \n\n[5 rows x 21 columns]",
            "text/html": "<div>\n<style scoped>\n    .dataframe tbody tr th:only-of-type {\n        vertical-align: middle;\n    }\n\n    .dataframe tbody tr th {\n        vertical-align: top;\n    }\n\n    .dataframe thead th {\n        text-align: right;\n    }\n</style>\n<table border=\"1\" class=\"dataframe\">\n  <thead>\n    <tr style=\"text-align: right;\">\n      <th></th>\n      <th>id</th>\n      <th>date</th>\n      <th>price</th>\n      <th>bedrooms</th>\n      <th>bathrooms</th>\n      <th>sqft_living</th>\n      <th>sqft_lot</th>\n      <th>floors</th>\n      <th>waterfront</th>\n      <th>view</th>\n      <th>...</th>\n      <th>grade</th>\n      <th>sqft_above</th>\n      <th>sqft_basement</th>\n      <th>yr_built</th>\n      <th>yr_renovated</th>\n      <th>zipcode</th>\n      <th>lat</th>\n      <th>long</th>\n      <th>sqft_living15</th>\n      <th>sqft_lot15</th>\n    </tr>\n  </thead>\n  <tbody>\n    <tr>\n      <th>0</th>\n      <td>7129300520</td>\n      <td>20141013T000000</td>\n      <td>221900.0</td>\n      <td>3</td>\n      <td>1.00</td>\n      <td>1180</td>\n      <td>5650</td>\n      <td>1.0</td>\n      <td>0</td>\n      <td>0</td>\n      <td>...</td>\n      <td>7</td>\n      <td>1180</td>\n      <td>0</td>\n      <td>1955</td>\n      <td>0</td>\n      <td>98178</td>\n      <td>47.5112</td>\n      <td>-122.257</td>\n      <td>1340</td>\n      <td>5650</td>\n    </tr>\n    <tr>\n      <th>1</th>\n      <td>6414100192</td>\n      <td>20141209T000000</td>\n      <td>538000.0</td>\n      <td>3</td>\n      <td>2.25</td>\n      <td>2570</td>\n      <td>7242</td>\n      <td>2.0</td>\n      <td>0</td>\n      <td>0</td>\n      <td>...</td>\n      <td>7</td>\n      <td>2170</td>\n      <td>400</td>\n      <td>1951</td>\n      <td>1991</td>\n      <td>98125</td>\n      <td>47.7210</td>\n      <td>-122.319</td>\n      <td>1690</td>\n      <td>7639</td>\n    </tr>\n    <tr>\n      <th>2</th>\n      <td>5631500400</td>\n      <td>20150225T000000</td>\n      <td>180000.0</td>\n      <td>2</td>\n      <td>1.00</td>\n      <td>770</td>\n      <td>10000</td>\n      <td>1.0</td>\n      <td>0</td>\n      <td>0</td>\n      <td>...</td>\n      <td>6</td>\n      <td>770</td>\n      <td>0</td>\n      <td>1933</td>\n      <td>0</td>\n      <td>98028</td>\n      <td>47.7379</td>\n      <td>-122.233</td>\n      <td>2720</td>\n      <td>8062</td>\n    </tr>\n    <tr>\n      <th>3</th>\n      <td>2487200875</td>\n      <td>20141209T000000</td>\n      <td>604000.0</td>\n      <td>4</td>\n      <td>3.00</td>\n      <td>1960</td>\n      <td>5000</td>\n      <td>1.0</td>\n      <td>0</td>\n      <td>0</td>\n      <td>...</td>\n      <td>7</td>\n      <td>1050</td>\n      <td>910</td>\n      <td>1965</td>\n      <td>0</td>\n      <td>98136</td>\n      <td>47.5208</td>\n      <td>-122.393</td>\n      <td>1360</td>\n      <td>5000</td>\n    </tr>\n    <tr>\n      <th>4</th>\n      <td>1954400510</td>\n      <td>20150218T000000</td>\n      <td>510000.0</td>\n      <td>3</td>\n      <td>2.00</td>\n      <td>1680</td>\n      <td>8080</td>\n      <td>1.0</td>\n      <td>0</td>\n      <td>0</td>\n      <td>...</td>\n      <td>8</td>\n      <td>1680</td>\n      <td>0</td>\n      <td>1987</td>\n      <td>0</td>\n      <td>98074</td>\n      <td>47.6168</td>\n      <td>-122.045</td>\n      <td>1800</td>\n      <td>7503</td>\n    </tr>\n  </tbody>\n</table>\n<p>5 rows × 21 columns</p>\n</div>"
          },
          "metadata": {}
        }
      ]
    },
    {
      "cell_type": "code",
      "source": "df.shape",
      "metadata": {
        "trusted": true
      },
      "execution_count": 5,
      "outputs": [
        {
          "execution_count": 5,
          "output_type": "execute_result",
          "data": {
            "text/plain": "(21613, 21)"
          },
          "metadata": {}
        }
      ]
    },
    {
      "cell_type": "markdown",
      "source": "1.2 Создать новый признак delta_renovated, который будет содержать разницу в годах между годом реновацией дома и годом постройки дома\nЕсли реновации дома не было, то в новом признаке поставьте 0",
      "metadata": {}
    },
    {
      "cell_type": "code",
      "source": "yr_diff = []\n\nfor i, row in df.iterrows():\n    if row['yr_renovated']:\n        yr_diff.append(row['yr_renovated']-row['yr_built'])\n    else:\n        yr_diff.append(0)\n        \nlen(yr_diff)",
      "metadata": {
        "trusted": true
      },
      "execution_count": 7,
      "outputs": [
        {
          "execution_count": 7,
          "output_type": "execute_result",
          "data": {
            "text/plain": "21613"
          },
          "metadata": {}
        }
      ]
    },
    {
      "cell_type": "code",
      "source": "df['delta_renovated'] = yr_diff\n\ndf[['yr_built', 'yr_renovated', 'delta_renovated']].head()",
      "metadata": {
        "trusted": true
      },
      "execution_count": 8,
      "outputs": [
        {
          "execution_count": 8,
          "output_type": "execute_result",
          "data": {
            "text/plain": "   yr_built  yr_renovated  delta_renovated\n0      1955             0                0\n1      1951          1991               40\n2      1933             0                0\n3      1965             0                0\n4      1987             0                0",
            "text/html": "<div>\n<style scoped>\n    .dataframe tbody tr th:only-of-type {\n        vertical-align: middle;\n    }\n\n    .dataframe tbody tr th {\n        vertical-align: top;\n    }\n\n    .dataframe thead th {\n        text-align: right;\n    }\n</style>\n<table border=\"1\" class=\"dataframe\">\n  <thead>\n    <tr style=\"text-align: right;\">\n      <th></th>\n      <th>yr_built</th>\n      <th>yr_renovated</th>\n      <th>delta_renovated</th>\n    </tr>\n  </thead>\n  <tbody>\n    <tr>\n      <th>0</th>\n      <td>1955</td>\n      <td>0</td>\n      <td>0</td>\n    </tr>\n    <tr>\n      <th>1</th>\n      <td>1951</td>\n      <td>1991</td>\n      <td>40</td>\n    </tr>\n    <tr>\n      <th>2</th>\n      <td>1933</td>\n      <td>0</td>\n      <td>0</td>\n    </tr>\n    <tr>\n      <th>3</th>\n      <td>1965</td>\n      <td>0</td>\n      <td>0</td>\n    </tr>\n    <tr>\n      <th>4</th>\n      <td>1987</td>\n      <td>0</td>\n      <td>0</td>\n    </tr>\n  </tbody>\n</table>\n</div>"
          },
          "metadata": {}
        }
      ]
    },
    {
      "cell_type": "code",
      "source": "df[df['yr_renovated'] > 0][['yr_built', 'yr_renovated', 'delta_renovated']].head()",
      "metadata": {
        "trusted": true
      },
      "execution_count": 9,
      "outputs": [
        {
          "execution_count": 9,
          "output_type": "execute_result",
          "data": {
            "text/plain": "     yr_built  yr_renovated  delta_renovated\n1        1951          1991               40\n35       1930          2002               72\n95       1946          1991               45\n103      1950          2010               60\n115      1900          1999               99",
            "text/html": "<div>\n<style scoped>\n    .dataframe tbody tr th:only-of-type {\n        vertical-align: middle;\n    }\n\n    .dataframe tbody tr th {\n        vertical-align: top;\n    }\n\n    .dataframe thead th {\n        text-align: right;\n    }\n</style>\n<table border=\"1\" class=\"dataframe\">\n  <thead>\n    <tr style=\"text-align: right;\">\n      <th></th>\n      <th>yr_built</th>\n      <th>yr_renovated</th>\n      <th>delta_renovated</th>\n    </tr>\n  </thead>\n  <tbody>\n    <tr>\n      <th>1</th>\n      <td>1951</td>\n      <td>1991</td>\n      <td>40</td>\n    </tr>\n    <tr>\n      <th>35</th>\n      <td>1930</td>\n      <td>2002</td>\n      <td>72</td>\n    </tr>\n    <tr>\n      <th>95</th>\n      <td>1946</td>\n      <td>1991</td>\n      <td>45</td>\n    </tr>\n    <tr>\n      <th>103</th>\n      <td>1950</td>\n      <td>2010</td>\n      <td>60</td>\n    </tr>\n    <tr>\n      <th>115</th>\n      <td>1900</td>\n      <td>1999</td>\n      <td>99</td>\n    </tr>\n  </tbody>\n</table>\n</div>"
          },
          "metadata": {}
        }
      ]
    },
    {
      "cell_type": "markdown",
      "source": "1.3 Создайте признаки года продажи, месяца продажи",
      "metadata": {}
    },
    {
      "cell_type": "code",
      "source": "df['yr_sale'] = df['date'].apply(lambda x: int(x[:4]))\ndf['mth_sale'] = df['date'].apply(lambda x: int(x[4:6]))\n\ndf[['date', 'yr_sale', 'mth_sale']].head()",
      "metadata": {
        "trusted": true
      },
      "execution_count": 11,
      "outputs": [
        {
          "execution_count": 11,
          "output_type": "execute_result",
          "data": {
            "text/plain": "              date  yr_sale  mth_sale\n0  20141013T000000     2014        10\n1  20141209T000000     2014        12\n2  20150225T000000     2015         2\n3  20141209T000000     2014        12\n4  20150218T000000     2015         2",
            "text/html": "<div>\n<style scoped>\n    .dataframe tbody tr th:only-of-type {\n        vertical-align: middle;\n    }\n\n    .dataframe tbody tr th {\n        vertical-align: top;\n    }\n\n    .dataframe thead th {\n        text-align: right;\n    }\n</style>\n<table border=\"1\" class=\"dataframe\">\n  <thead>\n    <tr style=\"text-align: right;\">\n      <th></th>\n      <th>date</th>\n      <th>yr_sale</th>\n      <th>mth_sale</th>\n    </tr>\n  </thead>\n  <tbody>\n    <tr>\n      <th>0</th>\n      <td>20141013T000000</td>\n      <td>2014</td>\n      <td>10</td>\n    </tr>\n    <tr>\n      <th>1</th>\n      <td>20141209T000000</td>\n      <td>2014</td>\n      <td>12</td>\n    </tr>\n    <tr>\n      <th>2</th>\n      <td>20150225T000000</td>\n      <td>2015</td>\n      <td>2</td>\n    </tr>\n    <tr>\n      <th>3</th>\n      <td>20141209T000000</td>\n      <td>2014</td>\n      <td>12</td>\n    </tr>\n    <tr>\n      <th>4</th>\n      <td>20150218T000000</td>\n      <td>2015</td>\n      <td>2</td>\n    </tr>\n  </tbody>\n</table>\n</div>"
          },
          "metadata": {}
        }
      ]
    },
    {
      "cell_type": "markdown",
      "source": "1.4 Удалите признаки date, zipcode, lat, long",
      "metadata": {}
    },
    {
      "cell_type": "code",
      "source": "df.drop(columns=['date', 'zipcode', 'lat', 'long'], inplace=True)\ndf.head()",
      "metadata": {
        "trusted": true
      },
      "execution_count": 12,
      "outputs": [
        {
          "execution_count": 12,
          "output_type": "execute_result",
          "data": {
            "text/plain": "           id     price  bedrooms  bathrooms  sqft_living  sqft_lot  floors  \\\n0  7129300520  221900.0         3       1.00         1180      5650     1.0   \n1  6414100192  538000.0         3       2.25         2570      7242     2.0   \n2  5631500400  180000.0         2       1.00          770     10000     1.0   \n3  2487200875  604000.0         4       3.00         1960      5000     1.0   \n4  1954400510  510000.0         3       2.00         1680      8080     1.0   \n\n   waterfront  view  condition  grade  sqft_above  sqft_basement  yr_built  \\\n0           0     0          3      7        1180              0      1955   \n1           0     0          3      7        2170            400      1951   \n2           0     0          3      6         770              0      1933   \n3           0     0          5      7        1050            910      1965   \n4           0     0          3      8        1680              0      1987   \n\n   yr_renovated  sqft_living15  sqft_lot15  delta_renovated  yr_sale  mth_sale  \n0             0           1340        5650                0     2014        10  \n1            40           1690        7639               40     2014        12  \n2             0           2720        8062                0     2015         2  \n3             0           1360        5000                0     2014        12  \n4             0           1800        7503                0     2015         2  ",
            "text/html": "<div>\n<style scoped>\n    .dataframe tbody tr th:only-of-type {\n        vertical-align: middle;\n    }\n\n    .dataframe tbody tr th {\n        vertical-align: top;\n    }\n\n    .dataframe thead th {\n        text-align: right;\n    }\n</style>\n<table border=\"1\" class=\"dataframe\">\n  <thead>\n    <tr style=\"text-align: right;\">\n      <th></th>\n      <th>id</th>\n      <th>price</th>\n      <th>bedrooms</th>\n      <th>bathrooms</th>\n      <th>sqft_living</th>\n      <th>sqft_lot</th>\n      <th>floors</th>\n      <th>waterfront</th>\n      <th>view</th>\n      <th>condition</th>\n      <th>grade</th>\n      <th>sqft_above</th>\n      <th>sqft_basement</th>\n      <th>yr_built</th>\n      <th>yr_renovated</th>\n      <th>sqft_living15</th>\n      <th>sqft_lot15</th>\n      <th>delta_renovated</th>\n      <th>yr_sale</th>\n      <th>mth_sale</th>\n    </tr>\n  </thead>\n  <tbody>\n    <tr>\n      <th>0</th>\n      <td>7129300520</td>\n      <td>221900.0</td>\n      <td>3</td>\n      <td>1.00</td>\n      <td>1180</td>\n      <td>5650</td>\n      <td>1.0</td>\n      <td>0</td>\n      <td>0</td>\n      <td>3</td>\n      <td>7</td>\n      <td>1180</td>\n      <td>0</td>\n      <td>1955</td>\n      <td>0</td>\n      <td>1340</td>\n      <td>5650</td>\n      <td>0</td>\n      <td>2014</td>\n      <td>10</td>\n    </tr>\n    <tr>\n      <th>1</th>\n      <td>6414100192</td>\n      <td>538000.0</td>\n      <td>3</td>\n      <td>2.25</td>\n      <td>2570</td>\n      <td>7242</td>\n      <td>2.0</td>\n      <td>0</td>\n      <td>0</td>\n      <td>3</td>\n      <td>7</td>\n      <td>2170</td>\n      <td>400</td>\n      <td>1951</td>\n      <td>40</td>\n      <td>1690</td>\n      <td>7639</td>\n      <td>40</td>\n      <td>2014</td>\n      <td>12</td>\n    </tr>\n    <tr>\n      <th>2</th>\n      <td>5631500400</td>\n      <td>180000.0</td>\n      <td>2</td>\n      <td>1.00</td>\n      <td>770</td>\n      <td>10000</td>\n      <td>1.0</td>\n      <td>0</td>\n      <td>0</td>\n      <td>3</td>\n      <td>6</td>\n      <td>770</td>\n      <td>0</td>\n      <td>1933</td>\n      <td>0</td>\n      <td>2720</td>\n      <td>8062</td>\n      <td>0</td>\n      <td>2015</td>\n      <td>2</td>\n    </tr>\n    <tr>\n      <th>3</th>\n      <td>2487200875</td>\n      <td>604000.0</td>\n      <td>4</td>\n      <td>3.00</td>\n      <td>1960</td>\n      <td>5000</td>\n      <td>1.0</td>\n      <td>0</td>\n      <td>0</td>\n      <td>5</td>\n      <td>7</td>\n      <td>1050</td>\n      <td>910</td>\n      <td>1965</td>\n      <td>0</td>\n      <td>1360</td>\n      <td>5000</td>\n      <td>0</td>\n      <td>2014</td>\n      <td>12</td>\n    </tr>\n    <tr>\n      <th>4</th>\n      <td>1954400510</td>\n      <td>510000.0</td>\n      <td>3</td>\n      <td>2.00</td>\n      <td>1680</td>\n      <td>8080</td>\n      <td>1.0</td>\n      <td>0</td>\n      <td>0</td>\n      <td>3</td>\n      <td>8</td>\n      <td>1680</td>\n      <td>0</td>\n      <td>1987</td>\n      <td>0</td>\n      <td>1800</td>\n      <td>7503</td>\n      <td>0</td>\n      <td>2015</td>\n      <td>2</td>\n    </tr>\n  </tbody>\n</table>\n</div>"
          },
          "metadata": {}
        }
      ]
    },
    {
      "cell_type": "markdown",
      "source": "### Задание № 2\nСоздайте датафрейм с клиентами:\nclients = pd.DataFrame({\n    'client_id': [1459, 4684, 3498, 3942, 4535, 2308, 2866, 2765, 1472, 4236, 2295, 939, 3840,  280,   20, 4332, 3475, 4213, 3113, 4809, 2134, 2242, 2068, 4929, 1384, 1589, 3317, 2260, 1727, 1764, 1611, 1474],\n    'house_id': [8965450190, 6823100225, 5104540330, 2131701075, 1522700060, 1189000207, 6821600300, 7137950720, 9510920050, 6131600255, 5428000070, 1788800910, 8100400160, 3123049142, 6306800010, 5083000375, 7920100025, 1951600150,  809001400,  339600110, 1622049154, 1099600250, 8563000110, 2768100205, 3995700435, 8861700030, 3303980210, 7731100066, 8146100580,  825069097, 3889100029, 9524100196]\n})\nhouse_id - это индексы датафрейма с домами",
      "metadata": {}
    },
    {
      "cell_type": "code",
      "source": "clients = pd.DataFrame({\n                        'client_id': [1459, 4684, 3498, 3942, 4535, 2308, 2866, 2765, 1472, 4236, 2295,\n                                  939, 3840, 280, 20, 4332, 3475, 4213, 3113, 4809, 2134, 2242,\n                                  2068, 4929, 1384, 1589, 3317, 2260, 1727, 1764, 1611, 1474],\n                        'house_id': [8965450190, 6823100225, 5104540330, 2131701075, 1522700060,\n                                1189000207, 6821600300, 7137950720, 9510920050, 6131600255,\n                                5428000070, 1788800910, 8100400160, 3123049142, 6306800010,\n                                5083000375, 7920100025, 1951600150, 809001400, 339600110,\n                                1622049154, 1099600250, 8563000110, 2768100205, 3995700435,\n                                8861700030, 3303980210, 7731100066, 8146100580, 825069097,\n                                3889100029, 9524100196]\n                        })\nclients.head()",
      "metadata": {
        "trusted": true
      },
      "execution_count": 13,
      "outputs": [
        {
          "execution_count": 13,
          "output_type": "execute_result",
          "data": {
            "text/plain": "   client_id    house_id\n0       1459  8965450190\n1       4684  6823100225\n2       3498  5104540330\n3       3942  2131701075\n4       4535  1522700060",
            "text/html": "<div>\n<style scoped>\n    .dataframe tbody tr th:only-of-type {\n        vertical-align: middle;\n    }\n\n    .dataframe tbody tr th {\n        vertical-align: top;\n    }\n\n    .dataframe thead th {\n        text-align: right;\n    }\n</style>\n<table border=\"1\" class=\"dataframe\">\n  <thead>\n    <tr style=\"text-align: right;\">\n      <th></th>\n      <th>client_id</th>\n      <th>house_id</th>\n    </tr>\n  </thead>\n  <tbody>\n    <tr>\n      <th>0</th>\n      <td>1459</td>\n      <td>8965450190</td>\n    </tr>\n    <tr>\n      <th>1</th>\n      <td>4684</td>\n      <td>6823100225</td>\n    </tr>\n    <tr>\n      <th>2</th>\n      <td>3498</td>\n      <td>5104540330</td>\n    </tr>\n    <tr>\n      <th>3</th>\n      <td>3942</td>\n      <td>2131701075</td>\n    </tr>\n    <tr>\n      <th>4</th>\n      <td>4535</td>\n      <td>1522700060</td>\n    </tr>\n  </tbody>\n</table>\n</div>"
          },
          "metadata": {}
        }
      ]
    },
    {
      "cell_type": "markdown",
      "source": "2.1 Присоедините к таблице clients данные по домам через метод join",
      "metadata": {}
    },
    {
      "cell_type": "code",
      "source": "clients_id = clients.set_index('house_id')\ndf_id = df.set_index('id')\n\nclients_id.join(df_id).reset_index().head()",
      "metadata": {
        "trusted": true
      },
      "execution_count": 14,
      "outputs": [
        {
          "execution_count": 14,
          "output_type": "execute_result",
          "data": {
            "text/plain": "        index  client_id     price  bedrooms  bathrooms  sqft_living  \\\n0   339600110       4809  395000.0         3       2.50         1610   \n1   809001400       3113  925000.0         3       1.00         1630   \n2   825069097       1764  770000.0         3       2.50         2650   \n3  1099600250       2242  260000.0         3       1.75         1710   \n4  1189000207       2308  387000.0         2       2.50         1170   \n\n   sqft_lot  floors  waterfront  view  ...  grade  sqft_above  sqft_basement  \\\n0      3755     2.0           0     0  ...      7        1610              0   \n1      3200     1.5           0     0  ...      8        1630              0   \n2     40705     2.0           0     0  ...      9        2650              0   \n3      6400     1.0           0     0  ...      7        1240            470   \n4      1394     2.0           0     0  ...      8        1170              0   \n\n   yr_built  yr_renovated  sqft_living15  sqft_lot15  delta_renovated  \\\n0      1987             0           1300        3823                0   \n1      1912             0           1710        3600                0   \n2      1994             0           2550       42625                0   \n3      1976             0           1600        6400                0   \n4      2001             0           1250        3136                0   \n\n   yr_sale  mth_sale  \n0     2014         9  \n1     2014         9  \n2     2014         6  \n3     2014        12  \n4     2014        10  \n\n[5 rows x 21 columns]",
            "text/html": "<div>\n<style scoped>\n    .dataframe tbody tr th:only-of-type {\n        vertical-align: middle;\n    }\n\n    .dataframe tbody tr th {\n        vertical-align: top;\n    }\n\n    .dataframe thead th {\n        text-align: right;\n    }\n</style>\n<table border=\"1\" class=\"dataframe\">\n  <thead>\n    <tr style=\"text-align: right;\">\n      <th></th>\n      <th>index</th>\n      <th>client_id</th>\n      <th>price</th>\n      <th>bedrooms</th>\n      <th>bathrooms</th>\n      <th>sqft_living</th>\n      <th>sqft_lot</th>\n      <th>floors</th>\n      <th>waterfront</th>\n      <th>view</th>\n      <th>...</th>\n      <th>grade</th>\n      <th>sqft_above</th>\n      <th>sqft_basement</th>\n      <th>yr_built</th>\n      <th>yr_renovated</th>\n      <th>sqft_living15</th>\n      <th>sqft_lot15</th>\n      <th>delta_renovated</th>\n      <th>yr_sale</th>\n      <th>mth_sale</th>\n    </tr>\n  </thead>\n  <tbody>\n    <tr>\n      <th>0</th>\n      <td>339600110</td>\n      <td>4809</td>\n      <td>395000.0</td>\n      <td>3</td>\n      <td>2.50</td>\n      <td>1610</td>\n      <td>3755</td>\n      <td>2.0</td>\n      <td>0</td>\n      <td>0</td>\n      <td>...</td>\n      <td>7</td>\n      <td>1610</td>\n      <td>0</td>\n      <td>1987</td>\n      <td>0</td>\n      <td>1300</td>\n      <td>3823</td>\n      <td>0</td>\n      <td>2014</td>\n      <td>9</td>\n    </tr>\n    <tr>\n      <th>1</th>\n      <td>809001400</td>\n      <td>3113</td>\n      <td>925000.0</td>\n      <td>3</td>\n      <td>1.00</td>\n      <td>1630</td>\n      <td>3200</td>\n      <td>1.5</td>\n      <td>0</td>\n      <td>0</td>\n      <td>...</td>\n      <td>8</td>\n      <td>1630</td>\n      <td>0</td>\n      <td>1912</td>\n      <td>0</td>\n      <td>1710</td>\n      <td>3600</td>\n      <td>0</td>\n      <td>2014</td>\n      <td>9</td>\n    </tr>\n    <tr>\n      <th>2</th>\n      <td>825069097</td>\n      <td>1764</td>\n      <td>770000.0</td>\n      <td>3</td>\n      <td>2.50</td>\n      <td>2650</td>\n      <td>40705</td>\n      <td>2.0</td>\n      <td>0</td>\n      <td>0</td>\n      <td>...</td>\n      <td>9</td>\n      <td>2650</td>\n      <td>0</td>\n      <td>1994</td>\n      <td>0</td>\n      <td>2550</td>\n      <td>42625</td>\n      <td>0</td>\n      <td>2014</td>\n      <td>6</td>\n    </tr>\n    <tr>\n      <th>3</th>\n      <td>1099600250</td>\n      <td>2242</td>\n      <td>260000.0</td>\n      <td>3</td>\n      <td>1.75</td>\n      <td>1710</td>\n      <td>6400</td>\n      <td>1.0</td>\n      <td>0</td>\n      <td>0</td>\n      <td>...</td>\n      <td>7</td>\n      <td>1240</td>\n      <td>470</td>\n      <td>1976</td>\n      <td>0</td>\n      <td>1600</td>\n      <td>6400</td>\n      <td>0</td>\n      <td>2014</td>\n      <td>12</td>\n    </tr>\n    <tr>\n      <th>4</th>\n      <td>1189000207</td>\n      <td>2308</td>\n      <td>387000.0</td>\n      <td>2</td>\n      <td>2.50</td>\n      <td>1170</td>\n      <td>1394</td>\n      <td>2.0</td>\n      <td>0</td>\n      <td>0</td>\n      <td>...</td>\n      <td>8</td>\n      <td>1170</td>\n      <td>0</td>\n      <td>2001</td>\n      <td>0</td>\n      <td>1250</td>\n      <td>3136</td>\n      <td>0</td>\n      <td>2014</td>\n      <td>10</td>\n    </tr>\n  </tbody>\n</table>\n<p>5 rows × 21 columns</p>\n</div>"
          },
          "metadata": {}
        }
      ]
    },
    {
      "cell_type": "markdown",
      "source": "2.2 Присоедините к таблице clients данные по домам через метод merge",
      "metadata": {}
    },
    {
      "cell_type": "code",
      "source": "merge = clients.merge(df, left_on='house_id', right_on='id')\nmerge.head()",
      "metadata": {
        "trusted": true
      },
      "execution_count": 15,
      "outputs": [
        {
          "execution_count": 15,
          "output_type": "execute_result",
          "data": {
            "text/plain": "   client_id    house_id          id     price  bedrooms  bathrooms  \\\n0       1459  8965450190  8965450190  295000.0         3       2.50   \n1       4684  6823100225  6823100225  700000.0         4       1.75   \n2       3498  5104540330  5104540330  679000.0         4       2.50   \n3       3942  2131701075  2131701075  420000.0         3       1.75   \n4       4535  1522700060  1522700060  518000.0         4       2.75   \n\n   sqft_living  sqft_lot  floors  waterfront  ...  grade  sqft_above  \\\n0         1500      3060     2.0           0  ...      7        1500   \n1         1870      6000     1.0           0  ...      8        1670   \n2         3680      7236     2.0           0  ...     10        3680   \n3         1720      5000     1.5           0  ...      8        1720   \n4         2520     14021     2.0           0  ...      9        2520   \n\n   sqft_basement  yr_built  yr_renovated  sqft_living15  sqft_lot15  \\\n0              0      1994             0           2700        7734   \n1            200      1949             0           1710        6000   \n2              0      2006             0           3310        7180   \n3              0      1932            77           1410        8300   \n4              0      1999             0           2330       14007   \n\n   delta_renovated  yr_sale  mth_sale  \n0                0     2015         2  \n1                0     2015         4  \n2                0     2015         5  \n3               77     2014        12  \n4                0     2014         6  \n\n[5 rows x 22 columns]",
            "text/html": "<div>\n<style scoped>\n    .dataframe tbody tr th:only-of-type {\n        vertical-align: middle;\n    }\n\n    .dataframe tbody tr th {\n        vertical-align: top;\n    }\n\n    .dataframe thead th {\n        text-align: right;\n    }\n</style>\n<table border=\"1\" class=\"dataframe\">\n  <thead>\n    <tr style=\"text-align: right;\">\n      <th></th>\n      <th>client_id</th>\n      <th>house_id</th>\n      <th>id</th>\n      <th>price</th>\n      <th>bedrooms</th>\n      <th>bathrooms</th>\n      <th>sqft_living</th>\n      <th>sqft_lot</th>\n      <th>floors</th>\n      <th>waterfront</th>\n      <th>...</th>\n      <th>grade</th>\n      <th>sqft_above</th>\n      <th>sqft_basement</th>\n      <th>yr_built</th>\n      <th>yr_renovated</th>\n      <th>sqft_living15</th>\n      <th>sqft_lot15</th>\n      <th>delta_renovated</th>\n      <th>yr_sale</th>\n      <th>mth_sale</th>\n    </tr>\n  </thead>\n  <tbody>\n    <tr>\n      <th>0</th>\n      <td>1459</td>\n      <td>8965450190</td>\n      <td>8965450190</td>\n      <td>295000.0</td>\n      <td>3</td>\n      <td>2.50</td>\n      <td>1500</td>\n      <td>3060</td>\n      <td>2.0</td>\n      <td>0</td>\n      <td>...</td>\n      <td>7</td>\n      <td>1500</td>\n      <td>0</td>\n      <td>1994</td>\n      <td>0</td>\n      <td>2700</td>\n      <td>7734</td>\n      <td>0</td>\n      <td>2015</td>\n      <td>2</td>\n    </tr>\n    <tr>\n      <th>1</th>\n      <td>4684</td>\n      <td>6823100225</td>\n      <td>6823100225</td>\n      <td>700000.0</td>\n      <td>4</td>\n      <td>1.75</td>\n      <td>1870</td>\n      <td>6000</td>\n      <td>1.0</td>\n      <td>0</td>\n      <td>...</td>\n      <td>8</td>\n      <td>1670</td>\n      <td>200</td>\n      <td>1949</td>\n      <td>0</td>\n      <td>1710</td>\n      <td>6000</td>\n      <td>0</td>\n      <td>2015</td>\n      <td>4</td>\n    </tr>\n    <tr>\n      <th>2</th>\n      <td>3498</td>\n      <td>5104540330</td>\n      <td>5104540330</td>\n      <td>679000.0</td>\n      <td>4</td>\n      <td>2.50</td>\n      <td>3680</td>\n      <td>7236</td>\n      <td>2.0</td>\n      <td>0</td>\n      <td>...</td>\n      <td>10</td>\n      <td>3680</td>\n      <td>0</td>\n      <td>2006</td>\n      <td>0</td>\n      <td>3310</td>\n      <td>7180</td>\n      <td>0</td>\n      <td>2015</td>\n      <td>5</td>\n    </tr>\n    <tr>\n      <th>3</th>\n      <td>3942</td>\n      <td>2131701075</td>\n      <td>2131701075</td>\n      <td>420000.0</td>\n      <td>3</td>\n      <td>1.75</td>\n      <td>1720</td>\n      <td>5000</td>\n      <td>1.5</td>\n      <td>0</td>\n      <td>...</td>\n      <td>8</td>\n      <td>1720</td>\n      <td>0</td>\n      <td>1932</td>\n      <td>77</td>\n      <td>1410</td>\n      <td>8300</td>\n      <td>77</td>\n      <td>2014</td>\n      <td>12</td>\n    </tr>\n    <tr>\n      <th>4</th>\n      <td>4535</td>\n      <td>1522700060</td>\n      <td>1522700060</td>\n      <td>518000.0</td>\n      <td>4</td>\n      <td>2.75</td>\n      <td>2520</td>\n      <td>14021</td>\n      <td>2.0</td>\n      <td>0</td>\n      <td>...</td>\n      <td>9</td>\n      <td>2520</td>\n      <td>0</td>\n      <td>1999</td>\n      <td>0</td>\n      <td>2330</td>\n      <td>14007</td>\n      <td>0</td>\n      <td>2014</td>\n      <td>6</td>\n    </tr>\n  </tbody>\n</table>\n<p>5 rows × 22 columns</p>\n</div>"
          },
          "metadata": {}
        }
      ]
    },
    {
      "cell_type": "markdown",
      "source": "### Задание № 3\nСоставьте несколько сводных таблиц\n3.1 Найдите среднюю стоимость домов в зависимости от количества спален<br>\nОтсортируйте от меньшей стоимости к большей\n",
      "metadata": {}
    },
    {
      "cell_type": "code",
      "source": "df.groupby('bedrooms').agg({'price': 'mean'}).sort_values('price')",
      "metadata": {
        "trusted": true
      },
      "execution_count": 17,
      "outputs": [
        {
          "execution_count": 17,
          "output_type": "execute_result",
          "data": {
            "text/plain": "                 price\nbedrooms              \n1         3.176429e+05\n2         4.013727e+05\n0         4.095038e+05\n3         4.662321e+05\n11        5.200000e+05\n4         6.354195e+05\n33        6.400000e+05\n5         7.865998e+05\n10        8.193333e+05\n6         8.255206e+05\n9         8.939998e+05\n7         9.511847e+05\n8         1.105077e+06",
            "text/html": "<div>\n<style scoped>\n    .dataframe tbody tr th:only-of-type {\n        vertical-align: middle;\n    }\n\n    .dataframe tbody tr th {\n        vertical-align: top;\n    }\n\n    .dataframe thead th {\n        text-align: right;\n    }\n</style>\n<table border=\"1\" class=\"dataframe\">\n  <thead>\n    <tr style=\"text-align: right;\">\n      <th></th>\n      <th>price</th>\n    </tr>\n    <tr>\n      <th>bedrooms</th>\n      <th></th>\n    </tr>\n  </thead>\n  <tbody>\n    <tr>\n      <th>1</th>\n      <td>3.176429e+05</td>\n    </tr>\n    <tr>\n      <th>2</th>\n      <td>4.013727e+05</td>\n    </tr>\n    <tr>\n      <th>0</th>\n      <td>4.095038e+05</td>\n    </tr>\n    <tr>\n      <th>3</th>\n      <td>4.662321e+05</td>\n    </tr>\n    <tr>\n      <th>11</th>\n      <td>5.200000e+05</td>\n    </tr>\n    <tr>\n      <th>4</th>\n      <td>6.354195e+05</td>\n    </tr>\n    <tr>\n      <th>33</th>\n      <td>6.400000e+05</td>\n    </tr>\n    <tr>\n      <th>5</th>\n      <td>7.865998e+05</td>\n    </tr>\n    <tr>\n      <th>10</th>\n      <td>8.193333e+05</td>\n    </tr>\n    <tr>\n      <th>6</th>\n      <td>8.255206e+05</td>\n    </tr>\n    <tr>\n      <th>9</th>\n      <td>8.939998e+05</td>\n    </tr>\n    <tr>\n      <th>7</th>\n      <td>9.511847e+05</td>\n    </tr>\n    <tr>\n      <th>8</th>\n      <td>1.105077e+06</td>\n    </tr>\n  </tbody>\n</table>\n</div>"
          },
          "metadata": {}
        }
      ]
    },
    {
      "cell_type": "markdown",
      "source": "3.2 Найдите минимальную, среднюю и максимальную стоимости домов в зависимости от состояния дома",
      "metadata": {}
    },
    {
      "cell_type": "code",
      "source": "df.groupby('condition').agg({'price': ['min', 'mean', 'max']})",
      "metadata": {
        "trusted": true
      },
      "execution_count": 18,
      "outputs": [
        {
          "execution_count": 18,
          "output_type": "execute_result",
          "data": {
            "text/plain": "              price                          \n                min           mean        max\ncondition                                    \n1           78000.0  334431.666667  1500000.0\n2           80000.0  327287.145349  2555000.0\n3           75000.0  542012.578148  7062500.0\n4           89000.0  521200.390033  7700000.0\n5          110000.0  612418.089359  3650000.0",
            "text/html": "<div>\n<style scoped>\n    .dataframe tbody tr th:only-of-type {\n        vertical-align: middle;\n    }\n\n    .dataframe tbody tr th {\n        vertical-align: top;\n    }\n\n    .dataframe thead tr th {\n        text-align: left;\n    }\n\n    .dataframe thead tr:last-of-type th {\n        text-align: right;\n    }\n</style>\n<table border=\"1\" class=\"dataframe\">\n  <thead>\n    <tr>\n      <th></th>\n      <th colspan=\"3\" halign=\"left\">price</th>\n    </tr>\n    <tr>\n      <th></th>\n      <th>min</th>\n      <th>mean</th>\n      <th>max</th>\n    </tr>\n    <tr>\n      <th>condition</th>\n      <th></th>\n      <th></th>\n      <th></th>\n    </tr>\n  </thead>\n  <tbody>\n    <tr>\n      <th>1</th>\n      <td>78000.0</td>\n      <td>334431.666667</td>\n      <td>1500000.0</td>\n    </tr>\n    <tr>\n      <th>2</th>\n      <td>80000.0</td>\n      <td>327287.145349</td>\n      <td>2555000.0</td>\n    </tr>\n    <tr>\n      <th>3</th>\n      <td>75000.0</td>\n      <td>542012.578148</td>\n      <td>7062500.0</td>\n    </tr>\n    <tr>\n      <th>4</th>\n      <td>89000.0</td>\n      <td>521200.390033</td>\n      <td>7700000.0</td>\n    </tr>\n    <tr>\n      <th>5</th>\n      <td>110000.0</td>\n      <td>612418.089359</td>\n      <td>3650000.0</td>\n    </tr>\n  </tbody>\n</table>\n</div>"
          },
          "metadata": {}
        }
      ]
    },
    {
      "cell_type": "markdown",
      "source": "3.3 Постройте таблицу с подсчетом количества домов в данных в зависимости от вида на набережную и оценкой вида",
      "metadata": {}
    },
    {
      "cell_type": "code",
      "source": "df.pivot_table(index='waterfront',\n               columns='view',\n               values='id',\n               aggfunc='count',\n               fill_value=0)",
      "metadata": {
        "trusted": true
      },
      "execution_count": 19,
      "outputs": [
        {
          "execution_count": 19,
          "output_type": "execute_result",
          "data": {
            "text/plain": "view            0    1    2    3    4\nwaterfront                           \n0           19489  331  955  491  184\n1               0    1    8   19  135",
            "text/html": "<div>\n<style scoped>\n    .dataframe tbody tr th:only-of-type {\n        vertical-align: middle;\n    }\n\n    .dataframe tbody tr th {\n        vertical-align: top;\n    }\n\n    .dataframe thead th {\n        text-align: right;\n    }\n</style>\n<table border=\"1\" class=\"dataframe\">\n  <thead>\n    <tr style=\"text-align: right;\">\n      <th>view</th>\n      <th>0</th>\n      <th>1</th>\n      <th>2</th>\n      <th>3</th>\n      <th>4</th>\n    </tr>\n    <tr>\n      <th>waterfront</th>\n      <th></th>\n      <th></th>\n      <th></th>\n      <th></th>\n      <th></th>\n    </tr>\n  </thead>\n  <tbody>\n    <tr>\n      <th>0</th>\n      <td>19489</td>\n      <td>331</td>\n      <td>955</td>\n      <td>491</td>\n      <td>184</td>\n    </tr>\n    <tr>\n      <th>1</th>\n      <td>0</td>\n      <td>1</td>\n      <td>8</td>\n      <td>19</td>\n      <td>135</td>\n    </tr>\n  </tbody>\n</table>\n</div>"
          },
          "metadata": {}
        }
      ]
    },
    {
      "cell_type": "markdown",
      "source": "3.4 Каких домов в зависимости от этажности и количества спален больше?",
      "metadata": {}
    },
    {
      "cell_type": "code",
      "source": "pd.crosstab(index=df['floors'],\n            columns=df['bedrooms'])",
      "metadata": {
        "trusted": true
      },
      "execution_count": 20,
      "outputs": [
        {
          "execution_count": 20,
          "output_type": "execute_result",
          "data": {
            "text/plain": "bedrooms  0    1     2     3     4    5    6   7   8   9   10  11  33\nfloors                                                               \n1.0        4  162  1951  5455  2383  605  104   9   5   0   1   0   1\n1.5        0   21   182   786   698  185   30   7   1   0   0   0   0\n2.0        6   12   497  3118  3682  775  119  19   6   4   2   1   0\n2.5        0    1     5    56    58   23   14   2   0   2   0   0   0\n3.0        2    3   123   405    61   13    5   1   0   0   0   0   0\n3.5        1    0     2     4     0    0    0   0   1   0   0   0   0",
            "text/html": "<div>\n<style scoped>\n    .dataframe tbody tr th:only-of-type {\n        vertical-align: middle;\n    }\n\n    .dataframe tbody tr th {\n        vertical-align: top;\n    }\n\n    .dataframe thead th {\n        text-align: right;\n    }\n</style>\n<table border=\"1\" class=\"dataframe\">\n  <thead>\n    <tr style=\"text-align: right;\">\n      <th>bedrooms</th>\n      <th>0</th>\n      <th>1</th>\n      <th>2</th>\n      <th>3</th>\n      <th>4</th>\n      <th>5</th>\n      <th>6</th>\n      <th>7</th>\n      <th>8</th>\n      <th>9</th>\n      <th>10</th>\n      <th>11</th>\n      <th>33</th>\n    </tr>\n    <tr>\n      <th>floors</th>\n      <th></th>\n      <th></th>\n      <th></th>\n      <th></th>\n      <th></th>\n      <th></th>\n      <th></th>\n      <th></th>\n      <th></th>\n      <th></th>\n      <th></th>\n      <th></th>\n      <th></th>\n    </tr>\n  </thead>\n  <tbody>\n    <tr>\n      <th>1.0</th>\n      <td>4</td>\n      <td>162</td>\n      <td>1951</td>\n      <td>5455</td>\n      <td>2383</td>\n      <td>605</td>\n      <td>104</td>\n      <td>9</td>\n      <td>5</td>\n      <td>0</td>\n      <td>1</td>\n      <td>0</td>\n      <td>1</td>\n    </tr>\n    <tr>\n      <th>1.5</th>\n      <td>0</td>\n      <td>21</td>\n      <td>182</td>\n      <td>786</td>\n      <td>698</td>\n      <td>185</td>\n      <td>30</td>\n      <td>7</td>\n      <td>1</td>\n      <td>0</td>\n      <td>0</td>\n      <td>0</td>\n      <td>0</td>\n    </tr>\n    <tr>\n      <th>2.0</th>\n      <td>6</td>\n      <td>12</td>\n      <td>497</td>\n      <td>3118</td>\n      <td>3682</td>\n      <td>775</td>\n      <td>119</td>\n      <td>19</td>\n      <td>6</td>\n      <td>4</td>\n      <td>2</td>\n      <td>1</td>\n      <td>0</td>\n    </tr>\n    <tr>\n      <th>2.5</th>\n      <td>0</td>\n      <td>1</td>\n      <td>5</td>\n      <td>56</td>\n      <td>58</td>\n      <td>23</td>\n      <td>14</td>\n      <td>2</td>\n      <td>0</td>\n      <td>2</td>\n      <td>0</td>\n      <td>0</td>\n      <td>0</td>\n    </tr>\n    <tr>\n      <th>3.0</th>\n      <td>2</td>\n      <td>3</td>\n      <td>123</td>\n      <td>405</td>\n      <td>61</td>\n      <td>13</td>\n      <td>5</td>\n      <td>1</td>\n      <td>0</td>\n      <td>0</td>\n      <td>0</td>\n      <td>0</td>\n      <td>0</td>\n    </tr>\n    <tr>\n      <th>3.5</th>\n      <td>1</td>\n      <td>0</td>\n      <td>2</td>\n      <td>4</td>\n      <td>0</td>\n      <td>0</td>\n      <td>0</td>\n      <td>0</td>\n      <td>1</td>\n      <td>0</td>\n      <td>0</td>\n      <td>0</td>\n      <td>0</td>\n    </tr>\n  </tbody>\n</table>\n</div>"
          },
          "metadata": {}
        }
      ]
    },
    {
      "cell_type": "markdown",
      "source": "3.5 Постройте таблицу с подсчетом медианной стоимости домов в данных в зависимости от состояния дома и оценки дома",
      "metadata": {}
    },
    {
      "cell_type": "code",
      "source": "df.pivot_table(index='condition',\n               columns='grade',\n               values='price',\n               aggfunc='median',\n               fill_value=0)",
      "metadata": {
        "trusted": true
      },
      "execution_count": 21,
      "outputs": [
        {
          "execution_count": 21,
          "output_type": "execute_result",
          "data": {
            "text/plain": "grade          1       3       4       5       6       7       8        9   \\\ncondition                                                                    \n1          142000       0  150000  190000  255000  403500  932500        0   \n2               0  280000  145000  180000  235000  305000  429000   715000   \n3               0   75000  205000  234475  265000  357500  485000   689000   \n4               0       0  238525  229975  295000  390000  571250   823500   \n5               0  262000       0  227450  285475  456000  696000  1078000   \n\ngrade           10       11       12       13  \ncondition                                      \n1                0        0        0        0  \n2          1752500        0        0        0  \n3           890000  1209500  1807500  2888000  \n4          1030000  1685000  2125000  5750000  \n5          1650000  2050000  1990000        0  ",
            "text/html": "<div>\n<style scoped>\n    .dataframe tbody tr th:only-of-type {\n        vertical-align: middle;\n    }\n\n    .dataframe tbody tr th {\n        vertical-align: top;\n    }\n\n    .dataframe thead th {\n        text-align: right;\n    }\n</style>\n<table border=\"1\" class=\"dataframe\">\n  <thead>\n    <tr style=\"text-align: right;\">\n      <th>grade</th>\n      <th>1</th>\n      <th>3</th>\n      <th>4</th>\n      <th>5</th>\n      <th>6</th>\n      <th>7</th>\n      <th>8</th>\n      <th>9</th>\n      <th>10</th>\n      <th>11</th>\n      <th>12</th>\n      <th>13</th>\n    </tr>\n    <tr>\n      <th>condition</th>\n      <th></th>\n      <th></th>\n      <th></th>\n      <th></th>\n      <th></th>\n      <th></th>\n      <th></th>\n      <th></th>\n      <th></th>\n      <th></th>\n      <th></th>\n      <th></th>\n    </tr>\n  </thead>\n  <tbody>\n    <tr>\n      <th>1</th>\n      <td>142000</td>\n      <td>0</td>\n      <td>150000</td>\n      <td>190000</td>\n      <td>255000</td>\n      <td>403500</td>\n      <td>932500</td>\n      <td>0</td>\n      <td>0</td>\n      <td>0</td>\n      <td>0</td>\n      <td>0</td>\n    </tr>\n    <tr>\n      <th>2</th>\n      <td>0</td>\n      <td>280000</td>\n      <td>145000</td>\n      <td>180000</td>\n      <td>235000</td>\n      <td>305000</td>\n      <td>429000</td>\n      <td>715000</td>\n      <td>1752500</td>\n      <td>0</td>\n      <td>0</td>\n      <td>0</td>\n    </tr>\n    <tr>\n      <th>3</th>\n      <td>0</td>\n      <td>75000</td>\n      <td>205000</td>\n      <td>234475</td>\n      <td>265000</td>\n      <td>357500</td>\n      <td>485000</td>\n      <td>689000</td>\n      <td>890000</td>\n      <td>1209500</td>\n      <td>1807500</td>\n      <td>2888000</td>\n    </tr>\n    <tr>\n      <th>4</th>\n      <td>0</td>\n      <td>0</td>\n      <td>238525</td>\n      <td>229975</td>\n      <td>295000</td>\n      <td>390000</td>\n      <td>571250</td>\n      <td>823500</td>\n      <td>1030000</td>\n      <td>1685000</td>\n      <td>2125000</td>\n      <td>5750000</td>\n    </tr>\n    <tr>\n      <th>5</th>\n      <td>0</td>\n      <td>262000</td>\n      <td>0</td>\n      <td>227450</td>\n      <td>285475</td>\n      <td>456000</td>\n      <td>696000</td>\n      <td>1078000</td>\n      <td>1650000</td>\n      <td>2050000</td>\n      <td>1990000</td>\n      <td>0</td>\n    </tr>\n  </tbody>\n</table>\n</div>"
          },
          "metadata": {}
        }
      ]
    },
    {
      "cell_type": "code",
      "source": "",
      "metadata": {},
      "execution_count": null,
      "outputs": []
    }
  ]
}